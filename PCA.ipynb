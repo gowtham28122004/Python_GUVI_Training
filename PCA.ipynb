{
 "cells": [
  {
   "cell_type": "markdown",
   "id": "f2855fd7",
   "metadata": {},
   "source": [
    "# Principle Component Analysis - Dimension Reduction Technique"
   ]
  },
  {
   "cell_type": "code",
   "execution_count": 2,
   "id": "47c433f5",
   "metadata": {},
   "outputs": [],
   "source": [
    "import pandas\n",
    "from sklearn.decomposition import PCA\n",
    "import numpy\n",
    "import matplotlib.pyplot as plot"
   ]
  },
  {
   "cell_type": "code",
   "execution_count": 4,
   "id": "e88250ac",
   "metadata": {
    "collapsed": true
   },
   "outputs": [
    {
     "data": {
      "text/html": [
       "<div>\n",
       "<style scoped>\n",
       "    .dataframe tbody tr th:only-of-type {\n",
       "        vertical-align: middle;\n",
       "    }\n",
       "\n",
       "    .dataframe tbody tr th {\n",
       "        vertical-align: top;\n",
       "    }\n",
       "\n",
       "    .dataframe thead th {\n",
       "        text-align: right;\n",
       "    }\n",
       "</style>\n",
       "<table border=\"1\" class=\"dataframe\">\n",
       "  <thead>\n",
       "    <tr style=\"text-align: right;\">\n",
       "      <th></th>\n",
       "      <th>0</th>\n",
       "      <th>1</th>\n",
       "      <th>2</th>\n",
       "      <th>3</th>\n",
       "      <th>4</th>\n",
       "      <th>5</th>\n",
       "      <th>6</th>\n",
       "      <th>7</th>\n",
       "      <th>8</th>\n",
       "      <th>9</th>\n",
       "    </tr>\n",
       "  </thead>\n",
       "  <tbody>\n",
       "    <tr>\n",
       "      <th>0</th>\n",
       "      <td>-0.418161</td>\n",
       "      <td>0.789663</td>\n",
       "      <td>0.657356</td>\n",
       "      <td>1.014470</td>\n",
       "      <td>1.046849</td>\n",
       "      <td>1.217895</td>\n",
       "      <td>0.018823</td>\n",
       "      <td>-1.191315</td>\n",
       "      <td>-1.192896</td>\n",
       "      <td>0.488358</td>\n",
       "    </tr>\n",
       "    <tr>\n",
       "      <th>1</th>\n",
       "      <td>0.417006</td>\n",
       "      <td>0.546587</td>\n",
       "      <td>-1.178414</td>\n",
       "      <td>0.962225</td>\n",
       "      <td>0.950419</td>\n",
       "      <td>-0.277426</td>\n",
       "      <td>-1.329914</td>\n",
       "      <td>-0.449753</td>\n",
       "      <td>-0.328608</td>\n",
       "      <td>-1.495810</td>\n",
       "    </tr>\n",
       "    <tr>\n",
       "      <th>2</th>\n",
       "      <td>0.356996</td>\n",
       "      <td>0.319863</td>\n",
       "      <td>0.286414</td>\n",
       "      <td>-1.721783</td>\n",
       "      <td>-0.310292</td>\n",
       "      <td>0.159047</td>\n",
       "      <td>0.469126</td>\n",
       "      <td>0.039208</td>\n",
       "      <td>0.180681</td>\n",
       "      <td>-0.183156</td>\n",
       "    </tr>\n",
       "    <tr>\n",
       "      <th>3</th>\n",
       "      <td>1.065929</td>\n",
       "      <td>-0.358081</td>\n",
       "      <td>2.298885</td>\n",
       "      <td>2.092375</td>\n",
       "      <td>1.138252</td>\n",
       "      <td>-1.916614</td>\n",
       "      <td>-1.740910</td>\n",
       "      <td>0.450691</td>\n",
       "      <td>0.721649</td>\n",
       "      <td>0.648357</td>\n",
       "    </tr>\n",
       "    <tr>\n",
       "      <th>4</th>\n",
       "      <td>0.250205</td>\n",
       "      <td>1.420200</td>\n",
       "      <td>0.623958</td>\n",
       "      <td>-0.483723</td>\n",
       "      <td>0.585411</td>\n",
       "      <td>-2.199895</td>\n",
       "      <td>-1.912402</td>\n",
       "      <td>-0.269368</td>\n",
       "      <td>-1.175927</td>\n",
       "      <td>0.275184</td>\n",
       "    </tr>\n",
       "  </tbody>\n",
       "</table>\n",
       "</div>"
      ],
      "text/plain": [
       "          0         1         2         3         4         5         6  \\\n",
       "0 -0.418161  0.789663  0.657356  1.014470  1.046849  1.217895  0.018823   \n",
       "1  0.417006  0.546587 -1.178414  0.962225  0.950419 -0.277426 -1.329914   \n",
       "2  0.356996  0.319863  0.286414 -1.721783 -0.310292  0.159047  0.469126   \n",
       "3  1.065929 -0.358081  2.298885  2.092375  1.138252 -1.916614 -1.740910   \n",
       "4  0.250205  1.420200  0.623958 -0.483723  0.585411 -2.199895 -1.912402   \n",
       "\n",
       "          7         8         9  \n",
       "0 -1.191315 -1.192896  0.488358  \n",
       "1 -0.449753 -0.328608 -1.495810  \n",
       "2  0.039208  0.180681 -0.183156  \n",
       "3  0.450691  0.721649  0.648357  \n",
       "4 -0.269368 -1.175927  0.275184  "
      ]
     },
     "execution_count": 4,
     "metadata": {},
     "output_type": "execute_result"
    }
   ],
   "source": [
    "df = pandas.DataFrame(data=numpy.random.normal(0, 1, (20, 10)))\n",
    "df.head()"
   ]
  },
  {
   "cell_type": "code",
   "execution_count": 5,
   "id": "d75367b6",
   "metadata": {},
   "outputs": [
    {
     "data": {
      "text/plain": [
       "PCA(n_components=10)"
      ]
     },
     "execution_count": 5,
     "metadata": {},
     "output_type": "execute_result"
    }
   ],
   "source": [
    "# You must normalize the data before applying the fit method\n",
    "df_normalized=(df - df.mean()) / df.std()\n",
    "pca = PCA(n_components=df.shape[1])\n",
    "pca.fit(df_normalized)\n",
    "\n"
   ]
  },
  {
   "cell_type": "code",
   "execution_count": 7,
   "id": "0d6097ac",
   "metadata": {},
   "outputs": [
    {
     "name": "stdout",
     "output_type": "stream",
     "text": [
      "        PC0       PC1       PC2       PC3       PC4       PC5       PC6  \\\n",
      "0 -0.455968 -0.139859 -0.379497  0.035859  0.192115 -0.267122  0.108444   \n",
      "1  0.209132  0.114174 -0.376326  0.565204  0.371166  0.121853 -0.456202   \n",
      "2 -0.524768  0.088555  0.196526 -0.063548 -0.205098  0.198441 -0.006332   \n",
      "3 -0.246035  0.285529 -0.118122  0.530865 -0.519483 -0.136273  0.174920   \n",
      "4  0.221375 -0.528119 -0.080839  0.252937  0.096091 -0.187771  0.641750   \n",
      "5 -0.286529 -0.501921 -0.173077 -0.190060  0.113757  0.424272 -0.165602   \n",
      "6  0.107740 -0.182450  0.663648  0.137630  0.101335 -0.356954 -0.269741   \n",
      "7  0.459605 -0.023492 -0.049770 -0.016667 -0.388568  0.516658  0.123236   \n",
      "8 -0.126185  0.393104  0.299706  0.146810  0.562072  0.389805  0.455656   \n",
      "9 -0.206325 -0.398534  0.304244  0.502523 -0.118517  0.307056 -0.121021   \n",
      "\n",
      "        PC7       PC8       PC9  \n",
      "0 -0.357533  0.275098 -0.551087  \n",
      "1 -0.126885  0.199174  0.256219  \n",
      "2 -0.147428  0.577489  0.487240  \n",
      "3 -0.215249 -0.434596  0.089071  \n",
      "4 -0.014933  0.140862  0.353796  \n",
      "5 -0.288520 -0.502603  0.208982  \n",
      "6 -0.531429 -0.051028 -0.016320  \n",
      "7 -0.463437  0.241426 -0.281581  \n",
      "8 -0.117611 -0.143482 -0.090853  \n",
      "9  0.439901  0.091397 -0.358698  \n"
     ]
    }
   ],
   "source": [
    "# Reformat and view results\n",
    "loadings = pandas.DataFrame(pca.components_.T,\n",
    "columns=['PC%s' % _ for _ in range(len(df_normalized.columns))],\n",
    "index=df.columns)\n",
    "print(loadings)\n",
    "\n"
   ]
  },
  {
   "cell_type": "code",
   "execution_count": 8,
   "id": "d4b67039",
   "metadata": {},
   "outputs": [
    {
     "data": {
      "image/png": "[encoded data removed]",
      "text/plain": [
       "<Figure size 432x288 with 1 Axes>"
      ]
     },
     "metadata": {
      "needs_background": "light"
     },
     "output_type": "display_data"
    }
   ],
   "source": [
    "plot.plot(pca.explained_variance_ratio_)\n",
    "plot.ylabel('Explained Variance')\n",
    "plot.xlabel('Components')\n",
    "plot.show()"
   ]
  },
  {
   "cell_type": "code",
   "execution_count": null,
   "id": "8d8f9188",
   "metadata": {},
   "outputs": [],
   "source": []
  }
 ],
 "metadata": {
  "kernelspec": {
   "display_name": "Python 3 (ipykernel)",
   "language": "python",
   "name": "python3"
  },
  "language_info": {
   "codemirror_mode": {
    "name": "ipython",
    "version": 3
   },
   "file_extension": ".py",
   "mimetype": "text/x-python",
   "name": "python",
   "nbconvert_exporter": "python",
   "pygments_lexer": "ipython3",
   "version": "3.9.12"
  }
 },
 "nbformat": 4,
 "nbformat_minor": 5
}
