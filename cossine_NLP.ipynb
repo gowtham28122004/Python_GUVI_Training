{
 "cells": [
  {
   "cell_type": "code",
   "execution_count": 1,
   "id": "928159e6",
   "metadata": {},
   "outputs": [],
   "source": [
    "from sklearn.feature_extraction.text import TfidfVectorizer"
   ]
  },
  {
   "cell_type": "code",
   "execution_count": 2,
   "id": "25c5e929",
   "metadata": {},
   "outputs": [],
   "source": [
    "d0 = 'python for python'\n",
    "d1 = 'python'\n",
    "d2 = 'NLP'"
   ]
  },
  {
   "cell_type": "code",
   "execution_count": 3,
   "id": "3a7adc61",
   "metadata": {},
   "outputs": [],
   "source": [
    "string = [d0,d1,d2]"
   ]
  },
  {
   "cell_type": "code",
   "execution_count": 4,
   "id": "cdf183c4",
   "metadata": {},
   "outputs": [
    {
     "data": {
      "text/plain": [
       "['python for python', 'python', 'NLP']"
      ]
     },
     "execution_count": 4,
     "metadata": {},
     "output_type": "execute_result"
    }
   ],
   "source": [
    "string"
   ]
  },
  {
   "cell_type": "code",
   "execution_count": 5,
   "id": "2accebe2",
   "metadata": {},
   "outputs": [],
   "source": [
    "tfidf = TfidfVectorizer()"
   ]
  },
  {
   "cell_type": "code",
   "execution_count": 7,
   "id": "9cff9ca0",
   "metadata": {},
   "outputs": [],
   "source": [
    "result = tfidf.fit_transform(string)"
   ]
  },
  {
   "cell_type": "code",
   "execution_count": 8,
   "id": "cd61a825",
   "metadata": {},
   "outputs": [
    {
     "data": {
      "text/plain": [
       "<3x3 sparse matrix of type '<class 'numpy.float64'>'\n",
       "\twith 4 stored elements in Compressed Sparse Row format>"
      ]
     },
     "execution_count": 8,
     "metadata": {},
     "output_type": "execute_result"
    }
   ],
   "source": [
    "result"
   ]
  },
  {
   "cell_type": "code",
   "execution_count": 10,
   "id": "54d81412",
   "metadata": {},
   "outputs": [
    {
     "name": "stdout",
     "output_type": "stream",
     "text": [
      "for : 1.6931471805599454\n",
      "nlp : 1.6931471805599454\n",
      "python : 1.2876820724517808\n"
     ]
    },
    {
     "name": "stderr",
     "output_type": "stream",
     "text": [
      "C:\\Users\\Admin\\anaconda3\\lib\\site-packages\\sklearn\\utils\\deprecation.py:87: FutureWarning: Function get_feature_names is deprecated; get_feature_names is deprecated in 1.0 and will be removed in 1.2. Please use get_feature_names_out instead.\n",
      "  warnings.warn(msg, category=FutureWarning)\n"
     ]
    }
   ],
   "source": [
    "for ele1,ele2 in zip(tfidf.get_feature_names() , tfidf.idf_):\n",
    "    print(ele1,':',ele2)"
   ]
  },
  {
   "cell_type": "code",
   "execution_count": 11,
   "id": "2c5abd79",
   "metadata": {},
   "outputs": [],
   "source": [
    "d0 = 'python1'\n",
    "d1 = 'python2'\n",
    "d2 = 'python3'\n",
    "d3 = 'python4'"
   ]
  },
  {
   "cell_type": "code",
   "execution_count": 12,
   "id": "26ad935b",
   "metadata": {},
   "outputs": [],
   "source": [
    "string = [d0,d1,d2,d3]"
   ]
  },
  {
   "cell_type": "code",
   "execution_count": 13,
   "id": "ec825a73",
   "metadata": {},
   "outputs": [
    {
     "data": {
      "text/plain": [
       "['python1', 'python2', 'python3', 'python4']"
      ]
     },
     "execution_count": 13,
     "metadata": {},
     "output_type": "execute_result"
    }
   ],
   "source": [
    "string"
   ]
  },
  {
   "cell_type": "code",
   "execution_count": 14,
   "id": "ce6e1e06",
   "metadata": {},
   "outputs": [],
   "source": [
    "result = tfidf.fit_transform(string)"
   ]
  },
  {
   "cell_type": "code",
   "execution_count": 15,
   "id": "265e60eb",
   "metadata": {},
   "outputs": [
    {
     "name": "stdout",
     "output_type": "stream",
     "text": [
      "{'python1': 0, 'python2': 1, 'python3': 2, 'python4': 3}\n"
     ]
    }
   ],
   "source": [
    "print(tfidf.vocabulary_)"
   ]
  },
  {
   "cell_type": "code",
   "execution_count": 16,
   "id": "11c4acd2",
   "metadata": {},
   "outputs": [
    {
     "name": "stdout",
     "output_type": "stream",
     "text": [
      "  (0, 0)\t1.0\n",
      "  (1, 1)\t1.0\n",
      "  (2, 2)\t1.0\n",
      "  (3, 3)\t1.0\n"
     ]
    }
   ],
   "source": [
    "print(result)"
   ]
  },
  {
   "cell_type": "code",
   "execution_count": 17,
   "id": "8b95a33d",
   "metadata": {},
   "outputs": [],
   "source": [
    "d0 = 'python for python'\n",
    "d1 = 'python for python'"
   ]
  },
  {
   "cell_type": "code",
   "execution_count": 18,
   "id": "30ed0a83",
   "metadata": {},
   "outputs": [],
   "source": [
    "string = [d0,d1]"
   ]
  },
  {
   "cell_type": "code",
   "execution_count": 19,
   "id": "5c07e585",
   "metadata": {},
   "outputs": [
    {
     "data": {
      "text/plain": [
       "['python for python', 'python for python']"
      ]
     },
     "execution_count": 19,
     "metadata": {},
     "output_type": "execute_result"
    }
   ],
   "source": [
    "string"
   ]
  },
  {
   "cell_type": "code",
   "execution_count": 20,
   "id": "2f6147bb",
   "metadata": {},
   "outputs": [],
   "source": [
    "result = tfidf.fit_transform(string)"
   ]
  },
  {
   "cell_type": "code",
   "execution_count": 21,
   "id": "48ff4467",
   "metadata": {},
   "outputs": [
    {
     "data": {
      "text/plain": [
       "<2x2 sparse matrix of type '<class 'numpy.float64'>'\n",
       "\twith 4 stored elements in Compressed Sparse Row format>"
      ]
     },
     "execution_count": 21,
     "metadata": {},
     "output_type": "execute_result"
    }
   ],
   "source": [
    "result"
   ]
  },
  {
   "cell_type": "code",
   "execution_count": 22,
   "id": "92db6616",
   "metadata": {},
   "outputs": [
    {
     "name": "stdout",
     "output_type": "stream",
     "text": [
      "  (0, 0)\t0.4472135954999579\n",
      "  (0, 1)\t0.8944271909999159\n",
      "  (1, 0)\t0.4472135954999579\n",
      "  (1, 1)\t0.8944271909999159\n"
     ]
    }
   ],
   "source": [
    "print(result)"
   ]
  },
  {
   "cell_type": "code",
   "execution_count": 23,
   "id": "adeffb6f",
   "metadata": {},
   "outputs": [
    {
     "name": "stdout",
     "output_type": "stream",
     "text": [
      "{'python': 1, 'for': 0}\n"
     ]
    }
   ],
   "source": [
    "print(tfidf.vocabulary_)"
   ]
  },
  {
   "cell_type": "raw",
   "id": "822758b5",
   "metadata": {},
   "source": [
    "string = ['Python python'] * 5"
   ]
  },
  {
   "cell_type": "code",
   "execution_count": 24,
   "id": "83d17105",
   "metadata": {},
   "outputs": [],
   "source": [
    "string = ['Python python'] * 5"
   ]
  },
  {
   "cell_type": "code",
   "execution_count": 25,
   "id": "08c2dd4a",
   "metadata": {},
   "outputs": [
    {
     "data": {
      "text/plain": [
       "['Python python',\n",
       " 'Python python',\n",
       " 'Python python',\n",
       " 'Python python',\n",
       " 'Python python']"
      ]
     },
     "execution_count": 25,
     "metadata": {},
     "output_type": "execute_result"
    }
   ],
   "source": [
    "string"
   ]
  },
  {
   "cell_type": "code",
   "execution_count": 26,
   "id": "84a3f096",
   "metadata": {},
   "outputs": [],
   "source": [
    "result = tfidf.fit_transform(string)"
   ]
  },
  {
   "cell_type": "code",
   "execution_count": 27,
   "id": "d304a7a1",
   "metadata": {},
   "outputs": [
    {
     "data": {
      "text/plain": [
       "<5x1 sparse matrix of type '<class 'numpy.float64'>'\n",
       "\twith 5 stored elements in Compressed Sparse Row format>"
      ]
     },
     "execution_count": 27,
     "metadata": {},
     "output_type": "execute_result"
    }
   ],
   "source": [
    "result"
   ]
  },
  {
   "cell_type": "code",
   "execution_count": 28,
   "id": "abc4c06a",
   "metadata": {},
   "outputs": [
    {
     "data": {
      "text/plain": [
       "{'python': 0}"
      ]
     },
     "execution_count": 28,
     "metadata": {},
     "output_type": "execute_result"
    }
   ],
   "source": [
    "\n",
    "tfidf.vocabulary_"
   ]
  },
  {
   "cell_type": "code",
   "execution_count": 29,
   "id": "9856e838",
   "metadata": {},
   "outputs": [
    {
     "name": "stdout",
     "output_type": "stream",
     "text": [
      "  (0, 0)\t1.0\n",
      "  (1, 0)\t1.0\n",
      "  (2, 0)\t1.0\n",
      "  (3, 0)\t1.0\n",
      "  (4, 0)\t1.0\n"
     ]
    }
   ],
   "source": [
    "print(result)"
   ]
  },
  {
   "cell_type": "code",
   "execution_count": 32,
   "id": "1ff14ea2",
   "metadata": {},
   "outputs": [],
   "source": [
    "import numpy as np\n",
    "from numpy.linalg import norm"
   ]
  },
  {
   "cell_type": "code",
   "execution_count": 34,
   "id": "253a14c8",
   "metadata": {},
   "outputs": [],
   "source": [
    "d0 = np.array([2,1,2,3,2,9])\n",
    "d1 = np.array([3,4,2,4,5,5])"
   ]
  },
  {
   "cell_type": "code",
   "execution_count": 35,
   "id": "2c885a69",
   "metadata": {},
   "outputs": [
    {
     "data": {
      "text/plain": [
       "array([2, 1, 2, 3, 2, 9])"
      ]
     },
     "execution_count": 35,
     "metadata": {},
     "output_type": "execute_result"
    }
   ],
   "source": [
    "d0"
   ]
  },
  {
   "cell_type": "code",
   "execution_count": 36,
   "id": "1b7e4e01",
   "metadata": {},
   "outputs": [
    {
     "data": {
      "text/plain": [
       "array([3, 4, 2, 4, 5, 5])"
      ]
     },
     "execution_count": 36,
     "metadata": {},
     "output_type": "execute_result"
    }
   ],
   "source": [
    "d1"
   ]
  },
  {
   "cell_type": "code",
   "execution_count": 37,
   "id": "84383dbd",
   "metadata": {},
   "outputs": [],
   "source": [
    "cosine = np.dot( d0,d1) / (norm(d0) * norm(d1))"
   ]
  },
  {
   "cell_type": "code",
   "execution_count": 39,
   "id": "cb241a6b",
   "metadata": {},
   "outputs": [
    {
     "name": "stdout",
     "output_type": "stream",
     "text": [
      "cosine similarity  :  0.8188504723485274\n"
     ]
    }
   ],
   "source": [
    "print(\"cosine similarity  : \"  , cosine)"
   ]
  },
  {
   "cell_type": "code",
   "execution_count": 40,
   "id": "bf123aad",
   "metadata": {},
   "outputs": [],
   "source": [
    "d0 = np.array( [ [2,1,2] , [3,2,9] , [-1,2,-3]  ]  )\n"
   ]
  },
  {
   "cell_type": "code",
   "execution_count": 41,
   "id": "ca1005d6",
   "metadata": {},
   "outputs": [
    {
     "data": {
      "text/plain": [
       "array([[ 2,  1,  2],\n",
       "       [ 3,  2,  9],\n",
       "       [-1,  2, -3]])"
      ]
     },
     "execution_count": 41,
     "metadata": {},
     "output_type": "execute_result"
    }
   ],
   "source": [
    "d0"
   ]
  },
  {
   "cell_type": "code",
   "execution_count": 42,
   "id": "5301c0f0",
   "metadata": {},
   "outputs": [],
   "source": [
    "d1 = np.array([3,4,2])"
   ]
  },
  {
   "cell_type": "code",
   "execution_count": 43,
   "id": "78ab4ca5",
   "metadata": {},
   "outputs": [
    {
     "data": {
      "text/plain": [
       "array([3, 4, 2])"
      ]
     },
     "execution_count": 43,
     "metadata": {},
     "output_type": "execute_result"
    }
   ],
   "source": [
    "d1"
   ]
  },
  {
   "cell_type": "code",
   "execution_count": 44,
   "id": "1b6d8b81",
   "metadata": {},
   "outputs": [],
   "source": [
    "cosine = np.dot(d0,d1) / (norm(d0 , axis=1) * norm(d1))"
   ]
  },
  {
   "cell_type": "code",
   "execution_count": 45,
   "id": "40cb7c73",
   "metadata": {},
   "outputs": [
    {
     "data": {
      "text/plain": [
       "array([ 0.86657824,  0.67035541, -0.04962917])"
      ]
     },
     "execution_count": 45,
     "metadata": {},
     "output_type": "execute_result"
    }
   ],
   "source": [
    "cosine"
   ]
  },
  {
   "cell_type": "code",
   "execution_count": null,
   "id": "9413c99e",
   "metadata": {},
   "outputs": [],
   "source": []
  },
  {
   "cell_type": "code",
   "execution_count": null,
   "id": "5f4c7ef8",
   "metadata": {},
   "outputs": [],
   "source": [
    "syantatic analyis\n",
    "semantic analysis"
   ]
  },
  {
   "cell_type": "code",
   "execution_count": 47,
   "id": "88316af7",
   "metadata": {},
   "outputs": [],
   "source": [
    "import pandas as pd\n",
    "import numpy as np\n",
    "from sklearn.feature_extraction.text import TfidfVectorizer\n",
    "from sklearn.metrics.pairwise import cosine_similarity\n",
    "import nltk"
   ]
  },
  {
   "cell_type": "code",
   "execution_count": 57,
   "id": "328173f5",
   "metadata": {},
   "outputs": [],
   "source": [
    "desc = pd.read_csv(r'C:\\Users\\Admin\\Downloads\\similar.csv',sep=\",\")"
   ]
  },
  {
   "cell_type": "code",
   "execution_count": 77,
   "id": "e6553f55",
   "metadata": {},
   "outputs": [],
   "source": [
    "desc = desc[0:1000]"
   ]
  },
  {
   "cell_type": "code",
   "execution_count": 78,
   "id": "75d1ba6b",
   "metadata": {},
   "outputs": [],
   "source": [
    "tfidf = TfidfVectorizer(stop_words = 'english')"
   ]
  },
  {
   "cell_type": "code",
   "execution_count": 79,
   "id": "86dd4bc1",
   "metadata": {},
   "outputs": [],
   "source": [
    "doc_vector = tfidf.fit_transform(desc['description'])"
   ]
  },
  {
   "cell_type": "code",
   "execution_count": 81,
   "id": "9ff02edf",
   "metadata": {},
   "outputs": [
    {
     "data": {
      "text/plain": [
       "(1000, 3709)"
      ]
     },
     "execution_count": 81,
     "metadata": {},
     "output_type": "execute_result"
    }
   ],
   "source": [
    "doc_vector.shape"
   ]
  },
  {
   "cell_type": "code",
   "execution_count": 82,
   "id": "5181738b",
   "metadata": {},
   "outputs": [
    {
     "data": {
      "text/plain": [
       "<1000x3709 sparse matrix of type '<class 'numpy.float64'>'\n",
       "\twith 25578 stored elements in Compressed Sparse Row format>"
      ]
     },
     "execution_count": 82,
     "metadata": {},
     "output_type": "execute_result"
    }
   ],
   "source": [
    "doc_vector"
   ]
  },
  {
   "cell_type": "code",
   "execution_count": 85,
   "id": "22d02cb5",
   "metadata": {},
   "outputs": [],
   "source": [
    "results = []\n",
    "query = 'i am looking  '\n",
    "q_vector = tfidf.transform( [query] )\n"
   ]
  },
  {
   "cell_type": "code",
   "execution_count": 101,
   "id": "425a3d0b",
   "metadata": {},
   "outputs": [],
   "source": [
    "results.append(cosine_similarity(q_vector ,doc_vector.toarray() ))"
   ]
  },
  {
   "cell_type": "code",
   "execution_count": 89,
   "id": "652f62cb",
   "metadata": {},
   "outputs": [],
   "source": [
    "# doc_vector.toarray()"
   ]
  },
  {
   "cell_type": "code",
   "execution_count": 95,
   "id": "00b5f7c8",
   "metadata": {},
   "outputs": [
    {
     "data": {
      "text/plain": [
       "<function sklearn.metrics.pairwise.cosine_similarity(X, Y=None, dense_output=True)>"
      ]
     },
     "execution_count": 95,
     "metadata": {},
     "output_type": "execute_result"
    }
   ],
   "source": [
    "cosine_similarity"
   ]
  },
  {
   "cell_type": "code",
   "execution_count": 102,
   "id": "cc57436d",
   "metadata": {
    "collapsed": true
   },
   "outputs": [
    {
     "data": {
      "text/plain": [
       "[array([[0.0205479 , 0.        , 0.02144936, 0.        , 0.        ,\n",
       "         0.        , 0.02423779, 0.02369976, 0.        , 0.02430211,\n",
       "         0.        , 0.07579771, 0.13212529, 0.        , 0.02467011,\n",
       "         0.02218864, 0.06113254, 0.02876157, 0.        , 0.        ,\n",
       "         0.02111769, 0.02122138, 0.01973056, 0.02802087, 0.        ,\n",
       "         0.02210447, 0.        , 0.03882259, 0.        , 0.02648713,\n",
       "         0.        , 0.03029066, 0.        , 0.        , 0.03646871,\n",
       "         0.        , 0.        , 0.0375988 , 0.        , 0.        ,\n",
       "         0.        , 0.        , 0.        , 0.        , 0.        ,\n",
       "         0.        , 0.        , 0.21817811, 0.        , 0.        ,\n",
       "         0.06999979, 0.05916187, 0.02375653, 0.        , 0.03085437,\n",
       "         0.        , 0.        , 0.        , 0.        , 0.        ,\n",
       "         0.        , 0.        , 0.06135046, 0.02350957, 0.05923926,\n",
       "         0.        , 0.        , 0.02687893, 0.02886287, 0.04694952,\n",
       "         0.        , 0.        , 0.03206057, 0.        , 0.26808259,\n",
       "         0.        , 0.16120432, 0.        , 0.02864273, 0.05033064,\n",
       "         0.02686387, 0.        , 0.        , 0.02450322, 0.05883414,\n",
       "         0.0230122 , 0.05452797, 0.02506647, 0.03458303, 0.02717299,\n",
       "         0.        , 0.02935373, 0.02347831, 0.06241091, 0.03842403,\n",
       "         0.        , 0.02962479, 0.02955434, 0.        , 0.03611549,\n",
       "         0.        , 0.        , 0.        , 0.        , 0.03089067,\n",
       "         0.03818319, 0.03165485, 0.        , 0.04978464, 0.        ,\n",
       "         0.0296623 , 0.        , 0.        , 0.        , 0.        ,\n",
       "         0.0308934 , 0.06760182, 0.04049453, 0.02229269, 0.14161141,\n",
       "         0.        , 0.02228771, 0.19358463, 0.02323958, 0.02367173,\n",
       "         0.03127231, 0.16735927, 0.        , 0.        , 0.        ,\n",
       "         0.35129019, 0.02460627, 0.02804303, 0.        , 0.        ,\n",
       "         0.02692694, 0.        , 0.        , 0.28884181, 0.01969766,\n",
       "         0.02387743, 0.02882545, 0.02047955, 0.02803837, 0.02761603,\n",
       "         0.        , 0.        , 0.        , 0.        , 0.02897601,\n",
       "         0.        , 0.03343406, 0.02905975, 0.        , 0.03234358,\n",
       "         0.02424791, 0.        , 0.        , 0.        , 0.01828228,\n",
       "         0.        , 0.02705504, 0.02315585, 0.        , 0.        ,\n",
       "         0.        , 0.06631026, 0.        , 0.        , 0.        ,\n",
       "         0.        , 0.        , 0.02646307, 0.        , 0.        ,\n",
       "         0.        , 0.02848213, 0.        , 0.02812153, 0.02554765,\n",
       "         0.0259158 , 0.02514804, 0.        , 0.03253817, 0.0207499 ,\n",
       "         0.02194676, 0.02405804, 0.        , 0.18341815, 0.0288957 ,\n",
       "         0.08070048, 0.06188784, 0.06694741, 0.05851025, 0.        ,\n",
       "         0.02816408, 0.        , 0.        , 0.02768161, 0.02095483,\n",
       "         0.03540663, 0.        , 0.03236912, 0.06276683, 0.03139166,\n",
       "         0.0239526 , 0.03742521, 0.        , 0.24711863, 0.02849522,\n",
       "         0.02233251, 0.02301802, 0.05511179, 0.02696445, 0.        ,\n",
       "         0.        , 0.02322674, 0.02182109, 0.01917264, 0.        ,\n",
       "         0.03012834, 0.02045461, 0.        , 0.02637779, 0.        ,\n",
       "         0.01912894, 0.        , 0.06415037, 0.01884518, 0.        ,\n",
       "         0.        , 0.        , 0.        , 0.07509483, 0.03186718,\n",
       "         0.02940997, 0.06568743, 0.        , 0.03675021, 0.06887226,\n",
       "         0.03626577, 0.07192601, 0.        , 0.0325679 , 0.        ,\n",
       "         0.        , 0.        , 0.01970646, 0.        , 0.0355307 ,\n",
       "         0.        , 0.        , 0.02595097, 0.        , 0.02315175,\n",
       "         0.02524331, 0.        , 0.        , 0.        , 0.02920819,\n",
       "         0.02654787, 0.02148099, 0.02619629, 0.03735245, 0.02573258,\n",
       "         0.        , 0.01827193, 0.        , 0.        , 0.02910002,\n",
       "         0.13183392, 0.        , 0.        , 0.13962609, 0.02373027,\n",
       "         0.02583708, 0.05031697, 0.02443504, 0.        , 0.        ,\n",
       "         0.02715383, 0.06082823, 0.02507729, 0.        , 0.0312124 ,\n",
       "         0.06406227, 0.03678791, 0.        , 0.06299173, 0.03133326,\n",
       "         0.02460593, 0.02084183, 0.02814182, 0.0270302 , 0.        ,\n",
       "         0.        , 0.        , 0.        , 0.03882259, 0.        ,\n",
       "         0.027471  , 0.        , 0.        , 0.02802087, 0.02467675,\n",
       "         0.        , 0.02456456, 0.        , 0.        , 0.        ,\n",
       "         0.        , 0.02551421, 0.02350323, 0.02365453, 0.02412561,\n",
       "         0.0227929 , 0.09430622, 0.        , 0.0518096 , 0.        ,\n",
       "         0.06183955, 0.        , 0.02390486, 0.0508682 , 0.        ,\n",
       "         0.04988954, 0.05285347, 0.        , 0.02378807, 0.        ,\n",
       "         0.02397153, 0.        , 0.02073269, 0.02538047, 0.        ,\n",
       "         0.        , 0.02250172, 0.        , 0.        , 0.        ,\n",
       "         0.02345546, 0.02523614, 0.04715709, 0.0664188 , 0.        ,\n",
       "         0.        , 0.        , 0.        , 0.02340422, 0.        ,\n",
       "         0.07605041, 0.0483303 , 0.        , 0.        , 0.02248841,\n",
       "         0.        , 0.        , 0.        , 0.        , 0.        ,\n",
       "         0.        , 0.02312368, 0.        , 0.01919482, 0.        ,\n",
       "         0.        , 0.04683286, 0.01818025, 0.        , 0.03652677,\n",
       "         0.01925104, 0.3303094 , 0.        , 0.        , 0.        ,\n",
       "         0.        , 0.        , 0.02722775, 0.22302821, 0.0292841 ,\n",
       "         0.        , 0.        , 0.02138528, 0.        , 0.02272327,\n",
       "         0.02654743, 0.02812941, 0.02291178, 0.        , 0.02030384,\n",
       "         0.0230139 , 0.        , 0.        , 0.        , 0.10194895,\n",
       "         0.        , 0.        , 0.        , 0.        , 0.        ,\n",
       "         0.        , 0.        , 0.        , 0.14072658, 0.02840555,\n",
       "         0.02990744, 0.0225803 , 0.02494551, 0.        , 0.03597653,\n",
       "         0.        , 0.02690466, 0.02412467, 0.        , 0.03210768,\n",
       "         0.        , 0.02739275, 0.02621907, 0.03139166, 0.        ,\n",
       "         0.0239526 , 0.03742521, 0.        , 0.        , 0.03366702,\n",
       "         0.06313409, 0.        , 0.02446533, 0.03849608, 0.        ,\n",
       "         0.        , 0.        , 0.06558193, 0.0214021 , 0.        ,\n",
       "         0.        , 0.        , 0.        , 0.02776238, 0.        ,\n",
       "         0.        , 0.        , 0.19591344, 0.19517401, 0.        ,\n",
       "         0.02802663, 0.        , 0.        , 0.03572307, 0.        ,\n",
       "         0.031965  , 0.        , 0.04961588, 0.        , 0.02859024,\n",
       "         0.02859946, 0.03513888, 0.03125818, 0.        , 0.        ,\n",
       "         0.03097734, 0.        , 0.        , 0.2080604 , 0.08188108,\n",
       "         0.        , 0.        , 0.        , 0.        , 0.03819748,\n",
       "         0.03255635, 0.06815403, 0.29755943, 0.        , 0.03705075,\n",
       "         0.03672713, 0.02836707, 0.        , 0.        , 0.        ,\n",
       "         0.        , 0.        , 0.03008222, 0.07470301, 0.        ,\n",
       "         0.        , 0.        , 0.        , 0.        , 0.02776541,\n",
       "         0.        , 0.03267331, 0.        , 0.0272858 , 0.02496633,\n",
       "         0.        , 0.03056385, 0.02303166, 0.03154875, 0.        ,\n",
       "         0.        , 0.14930345, 0.02234816, 0.0232279 , 0.        ,\n",
       "         0.        , 0.        , 0.15884652, 0.02415385, 0.02614495,\n",
       "         0.17448549, 0.0196383 , 0.02293334, 0.15901766, 0.        ,\n",
       "         0.05019264, 0.        , 0.03550746, 0.05002395, 0.02982051,\n",
       "         0.01913682, 0.02307536, 0.14582664, 0.03075406, 0.        ,\n",
       "         0.        , 0.        , 0.04453836, 0.        , 0.02630814,\n",
       "         0.        , 0.02427064, 0.04824508, 0.02985734, 0.        ,\n",
       "         0.        , 0.        , 0.        , 0.        , 0.0265982 ,\n",
       "         0.        , 0.04122535, 0.06345517, 0.02329464, 0.02674256,\n",
       "         0.05462094, 0.05705395, 0.        , 0.06264836, 0.02503338,\n",
       "         0.03077189, 0.        , 0.        , 0.        , 0.        ,\n",
       "         0.03083483, 0.        , 0.        , 0.02410641, 0.02440562,\n",
       "         0.        , 0.02291178, 0.        , 0.        , 0.04580654,\n",
       "         0.        , 0.02722775, 0.22302821, 0.        , 0.02285204,\n",
       "         0.04650395, 0.02674605, 0.02510611, 0.        , 0.        ,\n",
       "         0.05231105, 0.02047145, 0.02506405, 0.04415533, 0.02556234,\n",
       "         0.        , 0.02407203, 0.        , 0.        , 0.        ,\n",
       "         0.02362525, 0.01940393, 0.02207323, 0.02510007, 0.        ,\n",
       "         0.02357577, 0.        , 0.        , 0.        , 0.        ,\n",
       "         0.02376423, 0.        , 0.05155946, 0.02453454, 0.        ,\n",
       "         0.02287026, 0.05419649, 0.        , 0.0257833 , 0.        ,\n",
       "         0.        , 0.        , 0.        , 0.        , 0.02723747,\n",
       "         0.        , 0.06357713, 0.02563462, 0.17789719, 0.01993512,\n",
       "         0.0171088 , 0.02601134, 0.        , 0.        , 0.        ,\n",
       "         0.        , 0.        , 0.        , 0.03315068, 0.        ,\n",
       "         0.06882439, 0.06047184, 0.02798265, 0.        , 0.        ,\n",
       "         0.        , 0.06566821, 0.        , 0.        , 0.02692992,\n",
       "         0.        , 0.        , 0.        , 0.        , 0.        ,\n",
       "         0.        , 0.03213965, 0.02256983, 0.03888895, 0.        ,\n",
       "         0.02634288, 0.02463484, 0.        , 0.02595337, 0.        ,\n",
       "         0.        , 0.        , 0.02937062, 0.02308332, 0.        ,\n",
       "         0.        , 0.02996297, 0.        , 0.        , 0.05984431,\n",
       "         0.        , 0.0339788 , 0.        , 0.02391506, 0.03265626,\n",
       "         0.        , 0.        , 0.        , 0.        , 0.        ,\n",
       "         0.04360326, 0.02366955, 0.        , 0.        , 0.        ,\n",
       "         0.02537574, 0.        , 0.04231041, 0.04213134, 0.        ,\n",
       "         0.21949824, 0.02249492, 0.06916881, 0.        , 0.02437534,\n",
       "         0.        , 0.07631397, 0.        , 0.02677284, 0.        ,\n",
       "         0.        , 0.04409875, 0.02178708, 0.04336978, 0.02708433,\n",
       "         0.        , 0.02546368, 0.02462671, 0.01828933, 0.        ,\n",
       "         0.02002046, 0.        , 0.02166786, 0.0449924 , 0.02841568,\n",
       "         0.        , 0.02637119, 0.        , 0.        , 0.        ,\n",
       "         0.02092625, 0.        , 0.03417093, 0.02960464, 0.        ,\n",
       "         0.        , 0.03353394, 0.        , 0.        , 0.02758648,\n",
       "         0.        , 0.        , 0.        , 0.03864642, 0.        ,\n",
       "         0.0317483 , 0.        , 0.02752352, 0.        , 0.04318225,\n",
       "         0.03700023, 0.05311526, 0.02996103, 0.23318005, 0.03701959,\n",
       "         0.        , 0.        , 0.        , 0.        , 0.        ,\n",
       "         0.        , 0.        , 0.        , 0.02632972, 0.        ,\n",
       "         0.        , 0.        , 0.03639075, 0.0580229 , 0.02058027,\n",
       "         0.02676756, 0.02012268, 0.0215479 , 0.06366093, 0.01907552,\n",
       "         0.        , 0.02091543, 0.        , 0.        , 0.        ,\n",
       "         0.        , 0.02987803, 0.        , 0.        , 0.        ,\n",
       "         0.        , 0.04488077, 0.        , 0.        , 0.        ,\n",
       "         0.02279136, 0.        , 0.        , 0.2363531 , 0.03078553,\n",
       "         0.0529792 , 0.02010907, 0.05261506, 0.        , 0.        ,\n",
       "         0.        , 0.        , 0.        , 0.06820008, 0.03063129,\n",
       "         0.05495396, 0.06637746, 0.02866108, 0.02562924, 0.        ,\n",
       "         0.35494463, 0.        , 0.03351775, 0.03070183, 0.03173392,\n",
       "         0.02554856, 0.22173834, 0.02255937, 0.        , 0.02803098,\n",
       "         0.02748541, 0.        , 0.02421761, 0.        , 0.02761302,\n",
       "         0.        , 0.        , 0.28467348, 0.        , 0.        ,\n",
       "         0.02410641, 0.02440562, 0.        , 0.06264836, 0.02503338,\n",
       "         0.03077189, 0.        , 0.        , 0.        , 0.        ,\n",
       "         0.0247602 , 0.02539775, 0.        , 0.        , 0.02429842,\n",
       "         0.03114499, 0.0244278 , 0.02934548, 0.02983953, 0.        ,\n",
       "         0.02636806, 0.        , 0.        , 0.        , 0.        ,\n",
       "         0.02874975, 0.        , 0.03058753, 0.02677284, 0.        ,\n",
       "         0.        , 0.07012947, 0.        , 0.02635147, 0.        ,\n",
       "         0.0838134 , 0.05193499, 0.04792266, 0.        , 0.        ,\n",
       "         0.        , 0.23947354, 0.03165797, 0.        , 0.        ,\n",
       "         0.        , 0.15760972, 0.        , 0.        , 0.03353394,\n",
       "         0.03041578, 0.        , 0.        , 0.02495738, 0.        ,\n",
       "         0.        , 0.        , 0.01997176, 0.        , 0.        ,\n",
       "         0.        , 0.        , 0.        , 0.05235597, 0.02756164,\n",
       "         0.        , 0.01753437, 0.        , 0.        , 0.        ,\n",
       "         0.06221175, 0.03083084, 0.03476182, 0.02415377, 0.02213722,\n",
       "         0.        , 0.        , 0.        , 0.        , 0.        ,\n",
       "         0.        , 0.0313636 , 0.        , 0.        , 0.02013464,\n",
       "         0.01687639, 0.        , 0.05792624, 0.        , 0.        ,\n",
       "         0.        , 0.04664749, 0.        , 0.01990846, 0.02761798,\n",
       "         0.0512843 , 0.04355473, 0.07918305, 0.04009486, 0.05000283,\n",
       "         0.        , 0.        , 0.01883556, 0.        , 0.0249566 ,\n",
       "         0.02430122, 0.02294949, 0.        , 0.        , 0.        ,\n",
       "         0.08709028, 0.02521947, 0.        , 0.02217227, 0.14903365,\n",
       "         0.        , 0.02051063, 0.        , 0.        , 0.2363531 ,\n",
       "         0.03078553, 0.0529792 , 0.05950267, 0.        , 0.02010907,\n",
       "         0.05261506, 0.        , 0.        , 0.        , 0.02705499,\n",
       "         0.        , 0.        , 0.        , 0.        , 0.        ,\n",
       "         0.        , 0.        , 0.        , 0.03225469, 0.        ,\n",
       "         0.17554062, 0.02514214, 0.        , 0.        , 0.        ,\n",
       "         0.02590089, 0.04055516, 0.21218301, 0.        , 0.        ,\n",
       "         0.02860106, 0.02146989, 0.        , 0.        , 0.02311405,\n",
       "         0.01978725, 0.02817853, 0.02077402, 0.15501987, 0.        ,\n",
       "         0.0336019 , 0.        , 0.02934085, 0.        , 0.02147778,\n",
       "         0.02087623, 0.        , 0.        , 0.        , 0.0242913 ,\n",
       "         0.        , 0.        , 0.        , 0.        , 0.        ,\n",
       "         0.02450809, 0.02191205, 0.        , 0.        , 0.02620371,\n",
       "         0.03639075, 0.03446132, 0.        , 0.06774039, 0.03382531,\n",
       "         0.07013323, 0.03418101, 0.        , 0.03447475, 0.03006487]])]"
      ]
     },
     "execution_count": 102,
     "metadata": {},
     "output_type": "execute_result"
    }
   ],
   "source": [
    "results\n",
    "\n",
    "for i in results[:10]:\n",
    "    "
   ]
  },
  {
   "cell_type": "code",
   "execution_count": 104,
   "id": "42f7f5fb",
   "metadata": {},
   "outputs": [],
   "source": [
    "import os\n",
    "os.chdir(r'C:\\Users\\Admin\\Downloads\\py-master\\py-master\\NLP')"
   ]
  },
  {
   "cell_type": "code",
   "execution_count": null,
   "id": "84b366f8",
   "metadata": {},
   "outputs": [],
   "source": []
  }
 ],
 "metadata": {
  "kernelspec": {
   "display_name": "Python 3 (ipykernel)",
   "language": "python",
   "name": "python3"
  },
  "language_info": {
   "codemirror_mode": {
    "name": "ipython",
    "version": 3
   },
   "file_extension": ".py",
   "mimetype": "text/x-python",
   "name": "python",
   "nbconvert_exporter": "python",
   "pygments_lexer": "ipython3",
   "version": "3.9.12"
  }
 },
 "nbformat": 4,
 "nbformat_minor": 5
}
