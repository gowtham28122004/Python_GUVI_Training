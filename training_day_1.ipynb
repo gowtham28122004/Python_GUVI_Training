{
 "cells": [
  {
   "cell_type": "markdown",
   "metadata": {},
   "source": [
    "### Basic of Python"
   ]
  },
  {
   "cell_type": "code",
   "execution_count": 4,
   "metadata": {},
   "outputs": [
    {
     "data": {
      "text/plain": [
       "4"
      ]
     },
     "execution_count": 4,
     "metadata": {},
     "output_type": "execute_result"
    }
   ],
   "source": [
    "2 + 2"
   ]
  },
  {
   "cell_type": "code",
   "execution_count": 5,
   "metadata": {},
   "outputs": [
    {
     "data": {
      "text/plain": [
       "4"
      ]
     },
     "execution_count": 5,
     "metadata": {},
     "output_type": "execute_result"
    }
   ],
   "source": [
    "2 * 2"
   ]
  },
  {
   "cell_type": "code",
   "execution_count": 6,
   "metadata": {},
   "outputs": [
    {
     "data": {
      "text/plain": [
       "2.5"
      ]
     },
     "execution_count": 6,
     "metadata": {},
     "output_type": "execute_result"
    }
   ],
   "source": [
    "5 / 2"
   ]
  },
  {
   "cell_type": "code",
   "execution_count": 7,
   "metadata": {},
   "outputs": [
    {
     "data": {
      "text/plain": [
       "3"
      ]
     },
     "execution_count": 7,
     "metadata": {},
     "output_type": "execute_result"
    }
   ],
   "source": [
    "6 - 3"
   ]
  },
  {
   "cell_type": "code",
   "execution_count": 8,
   "metadata": {},
   "outputs": [
    {
     "name": "stdout",
     "output_type": "stream",
     "text": [
      "Hello  World!\n"
     ]
    }
   ],
   "source": [
    "print(\"Hello  World!\")"
   ]
  },
  {
   "cell_type": "code",
   "execution_count": 9,
   "metadata": {},
   "outputs": [
    {
     "data": {
      "text/plain": [
       "['Gowtham', 'AIML', 73772218117, 8.53]"
      ]
     },
     "execution_count": 9,
     "metadata": {},
     "output_type": "execute_result"
    }
   ],
   "source": [
    "list1 = list()\n",
    "list1.extend([\"Gowtham\",\"AIML\",73772218117,8.53])\n",
    "list1"
   ]
  },
  {
   "cell_type": "markdown",
   "metadata": {},
   "source": [
    "### Numpy"
   ]
  },
  {
   "cell_type": "code",
   "execution_count": 10,
   "metadata": {},
   "outputs": [],
   "source": [
    "import numpy as np"
   ]
  },
  {
   "cell_type": "code",
   "execution_count": 11,
   "metadata": {},
   "outputs": [
    {
     "data": {
      "text/plain": [
       "3.0"
      ]
     },
     "execution_count": 11,
     "metadata": {},
     "output_type": "execute_result"
    }
   ],
   "source": [
    "np.sqrt(9)"
   ]
  },
  {
   "cell_type": "markdown",
   "metadata": {},
   "source": [
    "### Descriptive statistics\n",
    "### Measure of central tendency - mean / avera\n",
    "### Measure of dispertion - median\n",
    "### Skewness - mode\n",
    "### Kurtosis"
   ]
  },
  {
   "cell_type": "markdown",
   "metadata": {},
   "source": [
    "#### Pandas to read data\n",
    "\n",
    "used to import , export , data analysis , data managenent , data clean\n",
    "\n",
    "path defining method for an file \\\\\\\\ , r'/' , r'\\\\'"
   ]
  },
  {
   "cell_type": "code",
   "execution_count": 10,
   "metadata": {},
   "outputs": [],
   "source": [
    "import pandas as pd"
   ]
  },
  {
   "cell_type": "markdown",
   "metadata": {},
   "source": [
    "Reading file"
   ]
  },
  {
   "cell_type": "code",
   "execution_count": 15,
   "metadata": {},
   "outputs": [],
   "source": [
    "store = pd.read_csv(\"C:\\\\Users\\\\user\\\\Downloads\\\\ad_data.csv\")\n",
    "store = pd.read_csv(r\"C:\\Users\\user\\Downloads\\ad_data.csv\")\n",
    "store = pd.read_csv(r\"C:/Users/user/Downloads/ad_data.csv\")"
   ]
  },
  {
   "cell_type": "markdown",
   "metadata": {},
   "source": [
    "Output file\n",
    "\n",
    "head() used to show first five entries\n",
    "tail() used to show last five entries"
   ]
  },
  {
   "cell_type": "code",
   "execution_count": 21,
   "metadata": {},
   "outputs": [
    {
     "name": "stdout",
     "output_type": "stream",
     "text": [
      "      Row ID        Order ID  Order Date   Ship Date       Ship Mode  \\\n",
      "0       9261  CA-2017-167976  11-11-2017  11/14/2017    Second Class   \n",
      "1       6990  CA-2017-165099  12-11-2017  12/13/2017     First Class   \n",
      "2       4324  US-2015-147662   2/14/2015   2/19/2015  Standard Class   \n",
      "3       3563  CA-2017-109757  09-04-2017  09-09-2017    Second Class   \n",
      "4       9922  CA-2014-111360  11/24/2014  11/30/2014  Standard Class   \n",
      "...      ...             ...         ...         ...             ...   \n",
      "9689    3348  CA-2015-112014   8/13/2015   8/20/2015  Standard Class   \n",
      "9690    8088  CA-2016-106621   9/29/2016  10-01-2016    Second Class   \n",
      "9691    4823  CA-2016-134222  07-10-2016  07-11-2016        Same Day   \n",
      "9692    7280  CA-2016-108224   5/14/2016   5/14/2016        Same Day   \n",
      "9693    7282  CA-2017-159282  10/16/2017  10/21/2017  Standard Class   \n",
      "\n",
      "     Customer ID    Customer Name      Segment        Country      City  ...  \\\n",
      "0       JL-15505  Jeremy Lonsdale     Consumer  United States  Aberdeen  ...   \n",
      "1       DK-13375      Dennis Kane     Consumer  United States   Abilene  ...   \n",
      "2       KB-16315       Karl Braun     Consumer  United States     Akron  ...   \n",
      "3       MD-17350    Maribeth Dona     Consumer  United States     Akron  ...   \n",
      "4       AT-10435      Alyssa Tate  Home Office  United States     Akron  ...   \n",
      "...          ...              ...          ...            ...       ...  ...   \n",
      "9689    ON-18715    Odella Nelson    Corporate  United States   Yucaipa  ...   \n",
      "9690    DM-12955     Dario Medina    Corporate  United States      Yuma  ...   \n",
      "9691    NZ-18565    Nick Zandusky  Home Office  United States      Yuma  ...   \n",
      "9692    TH-21235    Tiffany House    Corporate  United States      Yuma  ...   \n",
      "9693    GH-14410      Gary Hansen  Home Office  United States      Yuma  ...   \n",
      "\n",
      "             Category  Sub-Category  \\\n",
      "0     Office Supplies      Supplies   \n",
      "1     Office Supplies    Appliances   \n",
      "2     Office Supplies       Binders   \n",
      "3     Office Supplies       Binders   \n",
      "4     Office Supplies       Binders   \n",
      "...               ...           ...   \n",
      "9689  Office Supplies           Art   \n",
      "9690  Office Supplies           Art   \n",
      "9691  Office Supplies       Binders   \n",
      "9692       Technology   Accessories   \n",
      "9693       Technology      Machines   \n",
      "\n",
      "                                           Product Name    Sales Quantity  \\\n",
      "0                         Acme Titanium Bonded Scissors   25.500        3   \n",
      "1          Hoover Commercial Lightweight Upright Vacuum    1.392        2   \n",
      "2                             Acco Hanging Data Binders    2.286        2   \n",
      "3                       Wilson Jones Active Use Binders    4.368        2   \n",
      "4                       Acco Expandable Hanging Binders    5.742        3   \n",
      "...                                                 ...      ...      ...   \n",
      "9689                            50 Colored Long Pencils   50.800        5   \n",
      "9690                                         Newell 351   10.496        4   \n",
      "9691                   GBC Standard Therm-A-Bind Covers   44.856        6   \n",
      "9692  Imation 16GB Mini TravelDrive USB 2.0 Flash Drive  185.528        7   \n",
      "9693       Swingline SM12-08 MicroCut Jam Free Shredder  599.985        5   \n",
      "\n",
      "     Discount    Profit     TV   Radio  Newspaper  \n",
      "0         0.0    6.6300   12.8    51.0       51.0  \n",
      "1         0.8   -3.7584    0.7     2.8        2.8  \n",
      "2         0.7   -1.6764    1.1     4.6        4.6  \n",
      "3         0.7   -3.0576    2.2     8.7        8.7  \n",
      "4         0.7   -4.5936    2.9    11.5       11.5  \n",
      "...       ...       ...    ...     ...        ...  \n",
      "9689      0.0   13.2080   25.4   101.6      101.6  \n",
      "9690      0.2    1.1808    5.2    21.0       21.0  \n",
      "9691      0.7  -35.8848   22.4    89.7       89.7  \n",
      "9692      0.2   48.7011   92.8   371.1      371.1  \n",
      "9693      0.7 -479.9880  300.0  1200.0     1200.0  \n",
      "\n",
      "[9694 rows x 24 columns]\n"
     ]
    }
   ],
   "source": [
    "print(store)"
   ]
  },
  {
   "cell_type": "markdown",
   "metadata": {},
   "source": [
    "It shows column name in a table"
   ]
  },
  {
   "cell_type": "code",
   "execution_count": 26,
   "metadata": {},
   "outputs": [
    {
     "data": {
      "text/plain": [
       "Index(['Row ID', 'Order ID', 'Order Date', 'Ship Date', 'Ship Mode',\n",
       "       'Customer ID', 'Customer Name', 'Segment', 'Country', 'City', 'State',\n",
       "       'Postal Code', 'Region', 'Product ID', 'Category', 'Sub-Category',\n",
       "       'Product Name', 'Sales', 'Quantity', 'Discount', 'Profit', 'TV',\n",
       "       'Radio', 'Newspaper'],\n",
       "      dtype='object')"
      ]
     },
     "execution_count": 26,
     "metadata": {},
     "output_type": "execute_result"
    }
   ],
   "source": [
    "store.columns"
   ]
  },
  {
   "cell_type": "markdown",
   "metadata": {},
   "source": [
    "used to show stastical data for all numeric column"
   ]
  },
  {
   "cell_type": "code",
   "execution_count": 28,
   "metadata": {},
   "outputs": [
    {
     "data": {
      "text/html": [
       "<div>\n",
       "<style scoped>\n",
       "    .dataframe tbody tr th:only-of-type {\n",
       "        vertical-align: middle;\n",
       "    }\n",
       "\n",
       "    .dataframe tbody tr th {\n",
       "        vertical-align: top;\n",
       "    }\n",
       "\n",
       "    .dataframe thead th {\n",
       "        text-align: right;\n",
       "    }\n",
       "</style>\n",
       "<table border=\"1\" class=\"dataframe\">\n",
       "  <thead>\n",
       "    <tr style=\"text-align: right;\">\n",
       "      <th></th>\n",
       "      <th>Row ID</th>\n",
       "      <th>Postal Code</th>\n",
       "      <th>Sales</th>\n",
       "      <th>Quantity</th>\n",
       "      <th>Discount</th>\n",
       "      <th>Profit</th>\n",
       "      <th>TV</th>\n",
       "      <th>Radio</th>\n",
       "      <th>Newspaper</th>\n",
       "    </tr>\n",
       "  </thead>\n",
       "  <tbody>\n",
       "    <tr>\n",
       "      <th>count</th>\n",
       "      <td>9694.000000</td>\n",
       "      <td>9694.000000</td>\n",
       "      <td>9694.000000</td>\n",
       "      <td>9694.000000</td>\n",
       "      <td>9694.000000</td>\n",
       "      <td>9694.000000</td>\n",
       "      <td>9694.000000</td>\n",
       "      <td>9694.000000</td>\n",
       "      <td>9694.000000</td>\n",
       "    </tr>\n",
       "    <tr>\n",
       "      <th>mean</th>\n",
       "      <td>4993.926140</td>\n",
       "      <td>55190.491025</td>\n",
       "      <td>234.418182</td>\n",
       "      <td>3.790902</td>\n",
       "      <td>0.155167</td>\n",
       "      <td>29.178642</td>\n",
       "      <td>117.215504</td>\n",
       "      <td>468.836703</td>\n",
       "      <td>468.836703</td>\n",
       "    </tr>\n",
       "    <tr>\n",
       "      <th>std</th>\n",
       "      <td>2885.273358</td>\n",
       "      <td>32050.129070</td>\n",
       "      <td>631.789011</td>\n",
       "      <td>2.227335</td>\n",
       "      <td>0.204867</td>\n",
       "      <td>237.716782</td>\n",
       "      <td>315.895435</td>\n",
       "      <td>1263.578349</td>\n",
       "      <td>1263.578349</td>\n",
       "    </tr>\n",
       "    <tr>\n",
       "      <th>min</th>\n",
       "      <td>1.000000</td>\n",
       "      <td>1040.000000</td>\n",
       "      <td>0.444000</td>\n",
       "      <td>1.000000</td>\n",
       "      <td>0.000000</td>\n",
       "      <td>-6599.978000</td>\n",
       "      <td>0.200000</td>\n",
       "      <td>0.900000</td>\n",
       "      <td>0.900000</td>\n",
       "    </tr>\n",
       "    <tr>\n",
       "      <th>25%</th>\n",
       "      <td>2496.250000</td>\n",
       "      <td>23223.000000</td>\n",
       "      <td>17.480000</td>\n",
       "      <td>2.000000</td>\n",
       "      <td>0.000000</td>\n",
       "      <td>1.735200</td>\n",
       "      <td>8.700000</td>\n",
       "      <td>35.000000</td>\n",
       "      <td>35.000000</td>\n",
       "    </tr>\n",
       "    <tr>\n",
       "      <th>50%</th>\n",
       "      <td>4992.500000</td>\n",
       "      <td>56301.000000</td>\n",
       "      <td>55.928000</td>\n",
       "      <td>3.000000</td>\n",
       "      <td>0.200000</td>\n",
       "      <td>8.730750</td>\n",
       "      <td>28.000000</td>\n",
       "      <td>111.850000</td>\n",
       "      <td>111.850000</td>\n",
       "    </tr>\n",
       "    <tr>\n",
       "      <th>75%</th>\n",
       "      <td>7489.750000</td>\n",
       "      <td>90008.000000</td>\n",
       "      <td>214.850000</td>\n",
       "      <td>5.000000</td>\n",
       "      <td>0.200000</td>\n",
       "      <td>30.009300</td>\n",
       "      <td>107.475000</td>\n",
       "      <td>429.700000</td>\n",
       "      <td>429.700000</td>\n",
       "    </tr>\n",
       "    <tr>\n",
       "      <th>max</th>\n",
       "      <td>9994.000000</td>\n",
       "      <td>99301.000000</td>\n",
       "      <td>22638.480000</td>\n",
       "      <td>14.000000</td>\n",
       "      <td>0.800000</td>\n",
       "      <td>8399.976000</td>\n",
       "      <td>11319.200000</td>\n",
       "      <td>45277.000000</td>\n",
       "      <td>45277.000000</td>\n",
       "    </tr>\n",
       "  </tbody>\n",
       "</table>\n",
       "</div>"
      ],
      "text/plain": [
       "            Row ID   Postal Code         Sales     Quantity     Discount  \\\n",
       "count  9694.000000   9694.000000   9694.000000  9694.000000  9694.000000   \n",
       "mean   4993.926140  55190.491025    234.418182     3.790902     0.155167   \n",
       "std    2885.273358  32050.129070    631.789011     2.227335     0.204867   \n",
       "min       1.000000   1040.000000      0.444000     1.000000     0.000000   \n",
       "25%    2496.250000  23223.000000     17.480000     2.000000     0.000000   \n",
       "50%    4992.500000  56301.000000     55.928000     3.000000     0.200000   \n",
       "75%    7489.750000  90008.000000    214.850000     5.000000     0.200000   \n",
       "max    9994.000000  99301.000000  22638.480000    14.000000     0.800000   \n",
       "\n",
       "            Profit            TV         Radio     Newspaper  \n",
       "count  9694.000000   9694.000000   9694.000000   9694.000000  \n",
       "mean     29.178642    117.215504    468.836703    468.836703  \n",
       "std     237.716782    315.895435   1263.578349   1263.578349  \n",
       "min   -6599.978000      0.200000      0.900000      0.900000  \n",
       "25%       1.735200      8.700000     35.000000     35.000000  \n",
       "50%       8.730750     28.000000    111.850000    111.850000  \n",
       "75%      30.009300    107.475000    429.700000    429.700000  \n",
       "max    8399.976000  11319.200000  45277.000000  45277.000000  "
      ]
     },
     "execution_count": 28,
     "metadata": {},
     "output_type": "execute_result"
    }
   ],
   "source": [
    "store.describe()"
   ]
  },
  {
   "cell_type": "markdown",
   "metadata": {},
   "source": [
    "fillna used to fill to blanks\n",
    "dropna used to drop the column which contains NA"
   ]
  },
  {
   "cell_type": "code",
   "execution_count": null,
   "metadata": {},
   "outputs": [],
   "source": [
    "store = pd.read_csv(\"C:\\\\Users\\\\user\\\\Downloads\\\\ad_data (1).csv\")\n",
    "store['price']"
   ]
  },
  {
   "cell_type": "code",
   "execution_count": 17,
   "metadata": {},
   "outputs": [
    {
     "data": {
      "text/plain": [
       "0       50.0\n",
       "1       31.0\n",
       "2       95.0\n",
       "5       81.0\n",
       "6       52.0\n",
       "        ... \n",
       "9689    90.0\n",
       "9690    26.0\n",
       "9691    80.0\n",
       "9692    16.0\n",
       "9693    75.0\n",
       "Name: price, Length: 9690, dtype: float64"
      ]
     },
     "execution_count": 17,
     "metadata": {},
     "output_type": "execute_result"
    }
   ],
   "source": [
    "store['price'].dropna()"
   ]
  },
  {
   "cell_type": "code",
   "execution_count": 3,
   "metadata": {},
   "outputs": [
    {
     "name": "stdout",
     "output_type": "stream",
     "text": [
      "Below Average Salary\n"
     ]
    }
   ],
   "source": [
    "#condition statement\n",
    "\n",
    "salary = int(input(\"Enter Your Values\"))\n",
    "\n",
    "if salary  > 5000 :\n",
    "    print(\"Good Salary\")\n",
    "else:\n",
    "    print(\"Below Average Salary\")"
   ]
  },
  {
   "cell_type": "code",
   "execution_count": 4,
   "metadata": {},
   "outputs": [
    {
     "data": {
      "text/plain": [
       "5000"
      ]
     },
     "execution_count": 4,
     "metadata": {},
     "output_type": "execute_result"
    }
   ],
   "source": [
    "salary"
   ]
  },
  {
   "cell_type": "code",
   "execution_count": 6,
   "metadata": {},
   "outputs": [
    {
     "name": "stdout",
     "output_type": "stream",
     "text": [
      "Stop\n"
     ]
    }
   ],
   "source": [
    "signal = input().lower()\n",
    "\n",
    "if signal == 'red':\n",
    "    print(\"Stop\")\n",
    "elif signal == 'green':\n",
    "    print(\"Go\")\n",
    "elif signal == 'yellow':\n",
    "    print('Ready')\n",
    "else:\n",
    "    print()"
   ]
  },
  {
   "cell_type": "code",
   "execution_count": 7,
   "metadata": {},
   "outputs": [
    {
     "name": "stdout",
     "output_type": "stream",
     "text": [
      "Hello\n",
      "Hello\n",
      "Hello\n",
      "Hello\n",
      "Hello\n",
      "Hello\n",
      "Hello\n",
      "Hello\n",
      "Hello\n",
      "Hello\n",
      "Hello\n",
      "Hello\n"
     ]
    }
   ],
   "source": [
    "for i in range(0,12):\n",
    "    print(\"Hello\")"
   ]
  },
  {
   "cell_type": "code",
   "execution_count": 11,
   "metadata": {},
   "outputs": [
    {
     "name": "stdout",
     "output_type": "stream",
     "text": [
      "2 4 6 8 10 12 14 16 18 20 22 24 26 28 30 32 34 36 38 40 42 44 46 48 50 52 54 56 58 60 62 64 66 68 70 72 74 76 78 80 82 84 86 88 90 92 94 96 98 "
     ]
    }
   ],
   "source": [
    "for i in range(2,100,2):\n",
    "    print(i,end=\" \")"
   ]
  },
  {
   "cell_type": "markdown",
   "metadata": {},
   "source": [
    "##### ML steps\n",
    "\n",
    "1. Data Collection     ( primary data )   ( secondary / historical data )\n",
    "2. Data Cleansing      ( format , clean )\n",
    "3. Feature Selection / ( Descriptive Statistic )\n",
    "4. Variable Selection\n",
    "5. Fit the ML Model\n",
    "6. Model Result Validation"
   ]
  },
  {
   "cell_type": "code",
   "execution_count": 20,
   "metadata": {},
   "outputs": [
    {
     "name": "stdout",
     "output_type": "stream",
     "text": [
      "      Sales  Quantity     Radio\n",
      "0  1.000000       NaN       NaN\n",
      "1  0.202009  1.000000       NaN\n",
      "2 -0.025969  0.004706       NaN\n",
      "3  0.479158  0.066830       NaN\n",
      "4  1.000000  0.202009       NaN\n",
      "5  1.000000  0.202007  1.000000\n",
      "6  1.000000  0.202007  1.000000\n",
      "7  0.002346 -0.000677  0.004462\n"
     ]
    }
   ],
   "source": [
    "import pandas as pd\n",
    "\n",
    "store = pd.read_csv(\"C:\\\\Users\\\\user\\\\Downloads\\\\ad_data (1).csv\")\n",
    "\n",
    "selected_columns = store[['Sales', 'Quantity', 'Radio']]\n",
    "print(selected_columns)\n"
   ]
  },
  {
   "cell_type": "code",
   "execution_count": 32,
   "metadata": {},
   "outputs": [
    {
     "data": {
      "text/html": [
       "<div>\n",
       "<style scoped>\n",
       "    .dataframe tbody tr th:only-of-type {\n",
       "        vertical-align: middle;\n",
       "    }\n",
       "\n",
       "    .dataframe tbody tr th {\n",
       "        vertical-align: top;\n",
       "    }\n",
       "\n",
       "    .dataframe thead th {\n",
       "        text-align: right;\n",
       "    }\n",
       "</style>\n",
       "<table border=\"1\" class=\"dataframe\">\n",
       "  <thead>\n",
       "    <tr style=\"text-align: right;\">\n",
       "      <th></th>\n",
       "      <th>mpg</th>\n",
       "      <th>cylinders</th>\n",
       "      <th>displacement</th>\n",
       "      <th>horsepower</th>\n",
       "      <th>weight</th>\n",
       "      <th>acceleration</th>\n",
       "      <th>year</th>\n",
       "      <th>origin</th>\n",
       "      <th>name</th>\n",
       "      <th>auto_status</th>\n",
       "    </tr>\n",
       "  </thead>\n",
       "  <tbody>\n",
       "    <tr>\n",
       "      <th>0</th>\n",
       "      <td>18.0</td>\n",
       "      <td>8</td>\n",
       "      <td>307.0</td>\n",
       "      <td>130</td>\n",
       "      <td>3504</td>\n",
       "      <td>12.0</td>\n",
       "      <td>70</td>\n",
       "      <td>1</td>\n",
       "      <td>chevrolet chevelle malibu</td>\n",
       "      <td>26.0</td>\n",
       "    </tr>\n",
       "    <tr>\n",
       "      <th>1</th>\n",
       "      <td>15.0</td>\n",
       "      <td>8</td>\n",
       "      <td>350.0</td>\n",
       "      <td>165</td>\n",
       "      <td>3693</td>\n",
       "      <td>11.5</td>\n",
       "      <td>70</td>\n",
       "      <td>1</td>\n",
       "      <td>buick skylark 320</td>\n",
       "      <td>23.0</td>\n",
       "    </tr>\n",
       "    <tr>\n",
       "      <th>2</th>\n",
       "      <td>18.0</td>\n",
       "      <td>8</td>\n",
       "      <td>318.0</td>\n",
       "      <td>150</td>\n",
       "      <td>3436</td>\n",
       "      <td>11.0</td>\n",
       "      <td>70</td>\n",
       "      <td>1</td>\n",
       "      <td>plymouth satellite</td>\n",
       "      <td>26.0</td>\n",
       "    </tr>\n",
       "    <tr>\n",
       "      <th>3</th>\n",
       "      <td>16.0</td>\n",
       "      <td>8</td>\n",
       "      <td>304.0</td>\n",
       "      <td>150</td>\n",
       "      <td>3433</td>\n",
       "      <td>12.0</td>\n",
       "      <td>70</td>\n",
       "      <td>1</td>\n",
       "      <td>amc rebel sst</td>\n",
       "      <td>24.0</td>\n",
       "    </tr>\n",
       "    <tr>\n",
       "      <th>4</th>\n",
       "      <td>17.0</td>\n",
       "      <td>8</td>\n",
       "      <td>302.0</td>\n",
       "      <td>140</td>\n",
       "      <td>3449</td>\n",
       "      <td>10.5</td>\n",
       "      <td>70</td>\n",
       "      <td>1</td>\n",
       "      <td>ford torino</td>\n",
       "      <td>25.0</td>\n",
       "    </tr>\n",
       "    <tr>\n",
       "      <th>...</th>\n",
       "      <td>...</td>\n",
       "      <td>...</td>\n",
       "      <td>...</td>\n",
       "      <td>...</td>\n",
       "      <td>...</td>\n",
       "      <td>...</td>\n",
       "      <td>...</td>\n",
       "      <td>...</td>\n",
       "      <td>...</td>\n",
       "      <td>...</td>\n",
       "    </tr>\n",
       "    <tr>\n",
       "      <th>392</th>\n",
       "      <td>27.0</td>\n",
       "      <td>4</td>\n",
       "      <td>140.0</td>\n",
       "      <td>86</td>\n",
       "      <td>2790</td>\n",
       "      <td>15.6</td>\n",
       "      <td>82</td>\n",
       "      <td>1</td>\n",
       "      <td>ford mustang gl</td>\n",
       "      <td>31.0</td>\n",
       "    </tr>\n",
       "    <tr>\n",
       "      <th>393</th>\n",
       "      <td>44.0</td>\n",
       "      <td>4</td>\n",
       "      <td>97.0</td>\n",
       "      <td>52</td>\n",
       "      <td>2130</td>\n",
       "      <td>24.6</td>\n",
       "      <td>82</td>\n",
       "      <td>2</td>\n",
       "      <td>vw pickup</td>\n",
       "      <td>48.0</td>\n",
       "    </tr>\n",
       "    <tr>\n",
       "      <th>394</th>\n",
       "      <td>32.0</td>\n",
       "      <td>4</td>\n",
       "      <td>135.0</td>\n",
       "      <td>84</td>\n",
       "      <td>2295</td>\n",
       "      <td>11.6</td>\n",
       "      <td>82</td>\n",
       "      <td>1</td>\n",
       "      <td>dodge rampage</td>\n",
       "      <td>36.0</td>\n",
       "    </tr>\n",
       "    <tr>\n",
       "      <th>395</th>\n",
       "      <td>28.0</td>\n",
       "      <td>4</td>\n",
       "      <td>120.0</td>\n",
       "      <td>79</td>\n",
       "      <td>2625</td>\n",
       "      <td>18.6</td>\n",
       "      <td>82</td>\n",
       "      <td>1</td>\n",
       "      <td>ford ranger</td>\n",
       "      <td>32.0</td>\n",
       "    </tr>\n",
       "    <tr>\n",
       "      <th>396</th>\n",
       "      <td>31.0</td>\n",
       "      <td>4</td>\n",
       "      <td>119.0</td>\n",
       "      <td>82</td>\n",
       "      <td>2720</td>\n",
       "      <td>19.4</td>\n",
       "      <td>82</td>\n",
       "      <td>1</td>\n",
       "      <td>chevy s-10</td>\n",
       "      <td>35.0</td>\n",
       "    </tr>\n",
       "  </tbody>\n",
       "</table>\n",
       "<p>397 rows × 10 columns</p>\n",
       "</div>"
      ],
      "text/plain": [
       "      mpg  cylinders  displacement horsepower  weight  acceleration  year  \\\n",
       "0    18.0          8         307.0        130    3504          12.0    70   \n",
       "1    15.0          8         350.0        165    3693          11.5    70   \n",
       "2    18.0          8         318.0        150    3436          11.0    70   \n",
       "3    16.0          8         304.0        150    3433          12.0    70   \n",
       "4    17.0          8         302.0        140    3449          10.5    70   \n",
       "..    ...        ...           ...        ...     ...           ...   ...   \n",
       "392  27.0          4         140.0         86    2790          15.6    82   \n",
       "393  44.0          4          97.0         52    2130          24.6    82   \n",
       "394  32.0          4         135.0         84    2295          11.6    82   \n",
       "395  28.0          4         120.0         79    2625          18.6    82   \n",
       "396  31.0          4         119.0         82    2720          19.4    82   \n",
       "\n",
       "     origin                       name  auto_status  \n",
       "0         1  chevrolet chevelle malibu         26.0  \n",
       "1         1          buick skylark 320         23.0  \n",
       "2         1         plymouth satellite         26.0  \n",
       "3         1              amc rebel sst         24.0  \n",
       "4         1                ford torino         25.0  \n",
       "..      ...                        ...          ...  \n",
       "392       1            ford mustang gl         31.0  \n",
       "393       2                  vw pickup         48.0  \n",
       "394       1              dodge rampage         36.0  \n",
       "395       1                ford ranger         32.0  \n",
       "396       1                 chevy s-10         35.0  \n",
       "\n",
       "[397 rows x 10 columns]"
      ]
     },
     "execution_count": 32,
     "metadata": {},
     "output_type": "execute_result"
    }
   ],
   "source": [
    "# auto - status = add new column(mpg + cylinder)\n",
    "store = pd.read_csv(r\"C:\\Users\\user\\Downloads\\Auto.csv\")\n",
    "store['auto_status'] = store['mpg'] + store['cylinders']\n",
    "# store['auto_status']\n",
    "store"
   ]
  },
  {
   "cell_type": "code",
   "execution_count": 35,
   "metadata": {},
   "outputs": [
    {
     "ename": "SyntaxError",
     "evalue": "invalid syntax (1041307173.py, line 1)",
     "output_type": "error",
     "traceback": [
      "\u001b[1;36m  Cell \u001b[1;32mIn[35], line 1\u001b[1;36m\u001b[0m\n\u001b[1;33m    store['name'] = 'ford' ? 'Swize' : ''\u001b[0m\n\u001b[1;37m                           ^\u001b[0m\n\u001b[1;31mSyntaxError\u001b[0m\u001b[1;31m:\u001b[0m invalid syntax\n"
     ]
    }
   ],
   "source": [
    "store['name'] = 'ford' ? 'Swize' : ''"
   ]
  }
 ],
 "metadata": {
  "kernelspec": {
   "display_name": "Python 3",
   "language": "python",
   "name": "python3"
  },
  "language_info": {
   "codemirror_mode": {
    "name": "ipython",
    "version": 3
   },
   "file_extension": ".py",
   "mimetype": "text/x-python",
   "name": "python",
   "nbconvert_exporter": "python",
   "pygments_lexer": "ipython3",
   "version": "3.12.0"
  }
 },
 "nbformat": 4,
 "nbformat_minor": 2
}
